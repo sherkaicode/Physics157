{
 "cells": [
  {
   "cell_type": "markdown",
   "metadata": {
    "id": "jUwhOdrL9uXp"
   },
   "source": [
    "# Image Processing (Part 1: Preliminaries)\n",
    "\n",
    "## Objectives\n",
    "\n",
    "- Plot the RGB histogram of your chosen photo. Plot also the 99th percentile for each channel.\n",
    "- Visualize the image in HSV (Hue, Saturation, Value) and YUV (Luma, U, V) color space\n",
    "- Visualize the 2D fourier transform of the grayscale image (BOTH amplitude and phase information)\n",
    "- Reconstruct the orginal image by retaining only the original phase, also for the case retaining only the original amplitude.\n",
    "\n",
    "\n",
    "### **Comparison of Color Spaces: RGB vs. HSV vs. YUV**\n",
    "\n",
    "| **Color Space** | **Description** | **Components** | **Pros** | **Cons** | **Best Used For** |\n",
    "|---------------|---------------|--------------|---------|---------|--------------|\n",
    "| **RGB (Red-Green-Blue)** | The standard additive color model where colors are created by mixing red, green, and blue light. | **R** (Red), **G** (Green), **B** (Blue) | - Directly corresponds to display technology (monitors, screens).<br>- Simple and intuitive for image storage and processing. | - Not perceptually uniform (human vision is more sensitive to brightness than color changes).<br>- Difficult to adjust brightness and contrast independently. | - Display and rendering of images on screens.<br>- Basic image processing (e.g., filtering, transformations). |\n",
    "| **HSV (Hue-Saturation-Value)** | A cylindrical representation of color, separating chromatic information (hue) from intensity (value). | **H** (Hue), **S** (Saturation), **V** (Value) | - More intuitive for human perception (hue-based color changes).<br>- Easier to manipulate brightness and color separately. | - Computationally more complex than RGB.<br>- Less commonly used in direct hardware display. | - Color-based segmentation and detection.<br>- Image editing and artistic transformations. |\n",
    "| **YUV (Luminance-Chrominance)** | Designed for analog television and video compression, separating brightness (Y) from color (U and V). | **Y** (Luminance), **U** (Blue chrominance), **V** (Red chrominance) | - Efficient for compression and broadcast (used in JPEG, MPEG, and TV signals).<br>- Matches human perception (more sensitive to brightness). | - Not intuitive for direct image editing.<br>- Requires conversion when working with display technologies. | - Video compression and broadcasting.<br>- Image compression (JPEG, MPEG). |\n"
   ]
  },
  {
   "cell_type": "code",
   "execution_count": 1,
   "metadata": {
    "id": "M5M7TjJ19uXy"
   },
   "outputs": [
    {
     "ename": "SyntaxError",
     "evalue": "invalid syntax (610577211.py, line 15)",
     "output_type": "error",
     "traceback": [
      "\u001b[0;36m  Cell \u001b[0;32mIn[1], line 15\u001b[0;36m\u001b[0m\n\u001b[0;31m    for i #...\u001b[0m\n\u001b[0m          ^\u001b[0m\n\u001b[0;31mSyntaxError\u001b[0m\u001b[0;31m:\u001b[0m invalid syntax\n"
     ]
    }
   ],
   "source": [
    "import numpy as np\n",
    "import matplotlib.pyplot as plt\n",
    "from skimage import io, color, img_as_float\n",
    "from skimage.color import rgb2gray\n",
    "from numpy.fft import fft2, fftshift\n",
    "\n",
    "# Load image\n",
    "image = None #Load your image as float\n",
    "\n",
    "# Function to compute and plot RGB histogram with percentile markers\n",
    "def plot_rgb_histogram(img, title, percentiles=[80]):\n",
    "    colors = ('red', 'green', 'blue')\n",
    "    plt.figure(figsize=(8, 4))\n",
    "\n",
    "    for i #...\n",
    "        # Compute histogram\n",
    "\n",
    "        plt.plot(..., ..., color=color, alpha=0.7, label=f\"{color} channel\")\n",
    "\n",
    "        # Compute and plot percentiles\n",
    "        for p in percentiles:\n",
    "            p_value = ...  # compute percentiles\n",
    "            #Plot p_values\n",
    "\n",
    "    plt.title(title)\n",
    "    plt.xlabel('Pixel Value')\n",
    "    plt.ylabel('Frequency')\n",
    "    plt.legend()\n",
    "    plt.show()\n",
    "\n",
    "# Call the histogram function\n",
    "plot_rgb_histogram(image, \"RGB Histogram\")\n",
    "\n",
    "# Convert to HSV and YUV\n",
    "image_hsv = ...  # Convert using color\n",
    "image_yuv = ...  # Convert using color\n",
    "\n",
    "# Function to visualize color channels\n",
    "def plot_channels(img, color_space, titles):\n",
    "    plt.figure(figsize=(12, 4))\n",
    "    cmap_hsv = ['hsv', 'hot', 'gray']\n",
    "    cmap_yuv = ['gray', 'coolwarm', 'RdBu']\n",
    "\n",
    "    for i in range(3):\n",
    "        plt.subplot(1, 3, i + 1)\n",
    "        if color_space == 'HSV':\n",
    "            im = plt.imshow(..., cmap=cmap_hsv[i])  # Fill in image slice\n",
    "        if color_space == 'YUV':\n",
    "            im = plt.imshow(..., cmap=cmap_yuv[i])  # Fill in image slice\n",
    "        plt.title(f\"{color_space} - {titles[i]}\")\n",
    "        plt.axis('off')\n",
    "        plt.colorbar(im, fraction=0.046, pad=0.04)\n",
    "\n",
    "    plt.show()\n",
    "\n",
    "# Visualize HSV and YUV channels\n",
    "plot_channels(...)\n",
    "\n",
    "# Convert to grayscale and compute 2D Fourier Transform\n",
    "gray_image = ...  # Convert image to gray\n",
    "fft_result = ...  # Compute fft\n",
    "\n",
    "# Compute amplitude and phase\n",
    "amplitude = ...  # Compute amplitude\n",
    "phase = ...  # Compute phase\n",
    "\n",
    "# Plot amplitude and phase spectrum\n",
    "plt.figure(figsize=(10, 5))\n",
    "\n",
    "plt.subplot(1, 2, 1)\n",
    "plt.imshow(..., cmap='gray')  # amplitude in log-scale for emphasis\n",
    "plt.colorbar()\n",
    "plt.title(\"Fourier Transform - Amplitude\")\n",
    "plt.axis('off')\n",
    "\n",
    "plt.subplot(1, 2, 2)\n",
    "im = plt.imshow(..., cmap='gray', vmin=-np.pi, vmax=np.pi)  # Fill in phase\n",
    "cbar = plt.colorbar(im, ticks=[-np.pi, -np.pi/2, 0, np.pi/2, np.pi])\n",
    "cbar.ax.set_yticklabels([r'$-\\pi$', r'$-\\pi/2$', '0', r'$\\pi/2$', r'$\\pi$'])\n",
    "plt.title(\"Fourier Transform - Phase\")\n",
    "plt.axis('off')\n",
    "\n",
    "plt.show()"
   ]
  },
  {
   "cell_type": "code",
   "execution_count": null,
   "metadata": {
    "id": "XnwW-CmGjd_f"
   },
   "outputs": [],
   "source": [
    "# Reconstruction\n",
    "\n",
    "# Use a constant amplitude\n",
    "amplitude2 = np.ones_like(phase)\n",
    "# Use a constant phase\n",
    "phase2=np.ones_like(amplitude)\n",
    "\n",
    "# Reconstruct the Fourier domain representation\n",
    "fft_reconstructed1 = ... # reconstruct with original phase only. Use the equation Ae^(i\\phi).\n",
    "fft_reconstructed2 = ... # reconstruct with original amplitude only. Use the equation Ae^(i\\phi).\n",
    "\n",
    "# Perform inverse Fourier transform\n",
    "ifft_shifted1 = ...\n",
    "recovered_image1 = np.real(...)\n",
    "\n",
    "ifft_shifted2 = ...\n",
    "recovered_image2 = np.real(...)\n",
    "\n",
    "# Display results\n",
    "plt.figure(figsize=(10, 5))\n",
    "plt.subplot(1, 2, 1)\n",
    "plt.imshow(recovered_image2, cmap='gray')\n",
    "plt.title(\"Recovered Image (Using Amplitude Only)\")\n",
    "plt.axis(\"off\")\n",
    "\n",
    "plt.subplot(1, 2, 2)\n",
    "plt.imshow(recovered_image1, cmap='gray')\n",
    "plt.title(\"Recovered Image (Using Phase Only)\")\n",
    "plt.axis(\"off\")"
   ]
  },
  {
   "cell_type": "markdown",
   "metadata": {
    "id": "znNuxKbL9uX4"
   },
   "source": [
    "# Image Processing (Part 2: White Balancing and Contrast Stretching)\n",
    "\n",
    "## Objectives\n",
    "\n",
    "- Calculate various statistics for each channel of your image (mean, std, minimum, median, p_80, p_90, p_99, maximum)\n",
    "- Perform the White Patch Algorithm. Find the percentile that yields the best result.\n",
    "- Perform the Gray World Algorithm\n",
    "- Ground Truth Algorithms. Define a patch in the image you know is white. Find the best patch that yields the best result.\n",
    "- Perform Contrast Stretching. Find the parameters that yields the best result.\n",
    "- Discuss the performance of each algorithm, and determine the best one for your chosen image.\n",
    "\n",
    "### Refer to this [source.](https://python.plainenglish.io/introduction-to-image-processing-with-python-bb39c83366a4)\n",
    "\n",
    "## 1. **Color Overcast Calculation**  \n",
    "For each color channel \\( $C$ \\) (Red, Green, Blue), the statistical measures are computed:  \n",
    "\n",
    "- **Mean:**  \n",
    "  $$\n",
    "  \\mu_C = \\frac{1}{N} \\sum_{i=1}^{N} C_i\n",
    "  $$\n",
    "- **Standard Deviation:**  \n",
    "  $$\n",
    "  \\sigma_C = \\sqrt{\\frac{1}{N} \\sum_{i=1}^{N} (C_i - \\mu_C)^2}\n",
    "  $$\n",
    "\n",
    "## 2. **White Patch Algorithm**  \n",
    "This method normalizes an image based on the highest intensity value at a given percentile \\( $P$ \\):  \n",
    "  $$\n",
    "  I' = \\frac{I}{P} \\cdot 255\n",
    "  $$\n",
    "where \\( $I$ \\) is the original image intensity and \\( $P$ \\) is the selected percentile value.\n",
    "\n",
    "## 3. **Gray World Algorithm**  \n",
    "This method assumes that the average color of an image should be gray:  \n",
    "  $$\n",
    "  I'_C = I_C \\cdot \\frac{\\mu}{\\mu_C}\n",
    "  $$\n",
    "where:  \n",
    "- \\( $I_C$ \\) is the original pixel intensity for channel \\( $C$ \\)  \n",
    "- \\( $\\mu_C$ \\) is the mean intensity of channel \\( $C$ \\)  \n",
    "- \\( $\\mu$ \\) is the overall mean intensity of the entire image  \n",
    "\n",
    "## 4. **Ground Truth Algorithm**  \n",
    "The correction factor is obtained from a reference patch we know is white:  \n",
    "\n",
    "- **Mean-based correction:**  \n",
    "  $$\n",
    "  I' = I \\cdot \\frac{\\mu_{\\text{patch}}}{\\mu_{\\text{image}}}\n",
    "  $$\n",
    "- **Max-based correction:**  \n",
    "  $$\n",
    "  I' = \\frac{I}{\\max(\\text{patch})}\n",
    "  $$\n",
    "\n",
    "## 5. **Contrast Stretching**  \n",
    "Enhances contrast by rescaling pixel intensities based on lower and upper percentiles:  \n",
    "  $$\n",
    "  I' = \\frac{(I - I_{\\min})}{(I_{\\max} - I_{\\min})} \\cdot 255\n",
    "  $$\n",
    "where:  \n",
    "- \\( $I_{\\min}$ \\) and \\( $I_{\\max}$ \\) are the pixel intensities at the given percentiles.\n",
    "- Apply this to each color channel.\n"
   ]
  },
  {
   "cell_type": "code",
   "execution_count": null,
   "metadata": {
    "id": "FfZtBuF89uX5"
   },
   "outputs": [],
   "source": [
    "# Import libraries\n",
    "import numpy as np\n",
    "import pandas as pd\n",
    "import matplotlib.pyplot as plt\n",
    "from skimage import io, img_as_ubyte\n",
    "from skimage.io import imread, imshow\n",
    "from matplotlib.patches import Rectangle\n",
    "\n",
    "#Refer to the source for the sample codes for the white patch, gray world, and ground truth algorithms\n",
    "\n",
    "\n",
    "# Contrast stretching\n",
    "\n",
    "def contrast_stretching(image, lower_percentile=2, upper_percentile=98):\n",
    "    \"\"\"\n",
    "    Performs contrast stretching on an image using specified percentile limits.\n",
    "\n",
    "    Parameters\n",
    "    ----------\n",
    "    image : numpy array\n",
    "        Input image to be contrast-stretched.\n",
    "    lower_percentile : float, optional\n",
    "        Lower percentile value for intensity rescaling (default is 2).\n",
    "    upper_percentile : float, optional\n",
    "        Upper percentile value for intensity rescaling (default is 98).\n",
    "\n",
    "    Returns\n",
    "    -------\n",
    "    stretched_image : numpy array\n",
    "        The contrast-enhanced image.\n",
    "    \"\"\"\n",
    "    # Convert image to float for safe computation\n",
    "    image = img_as_ubyte(image) if image.dtype != np.uint8 else image\n",
    "    stretched_image = np.zeros_like(image, dtype=np.uint8)\n",
    "\n",
    "    # Apply contrast stretching per channel\n",
    "    for i in ...:\n",
    "        # Compute the lower and upper bounds for the given percentiles\n",
    "        min_val = ... # compute the lower percentile for each channel\n",
    "        max_val = ... # compute the higher percentile for each channel\n",
    "\n",
    "        # Perform contrast stretching using linear transformation\n",
    "        stretched_image[...] =\n",
    "            # insert formula for contrast stretching. Use also np.clip to limit values between 0-255\n",
    "            .astype(np.uint8)\n",
    "\n",
    "    return stretched_image\n",
    "\n",
    "def plot_contrast_stretching(image, lower_percentile=2, upper_percentile=98):\n",
    "    \"\"\"\n",
    "    Returns a plot comparison of the original and contrast-stretched image.\n",
    "\n",
    "    Parameters\n",
    "    ----------\n",
    "    image : numpy array\n",
    "            Image to process using contrast stretching.\n",
    "    lower_percentile : float, optional\n",
    "            Lower percentile for contrast stretching (default is 2).\n",
    "    upper_percentile : float, optional\n",
    "            Upper percentile for contrast stretching (default is 98).\n",
    "    \"\"\"\n",
    "    # Apply contrast stretching\n",
    "    stretched_image = contrast_stretching(image, lower_percentile, upper_percentile)\n",
    "\n",
    "    # Plot the original and contrast-stretched images\n",
    "    fig, ax = plt.subplots(1, 2, figsize=(14, 10))\n",
    "\n",
    "    ax[0].imshow(image)\n",
    "    ax[0].set_title('Original Image')\n",
    "    ax[0].axis('off')\n",
    "\n",
    "    ax[1].imshow(stretched_image)\n",
    "    ax[1].set_title(f'Contrast Stretched Image: {lower_percentile}-{upper_percentile} Percentiles')\n",
    "    ax[1].axis('off')\n",
    "\n",
    "    plt.show()\n"
   ]
  },
  {
   "cell_type": "code",
   "execution_count": null,
   "metadata": {
    "id": "atVaP7WK9uX-"
   },
   "outputs": [],
   "source": [
    "image = io.imread('...')\n",
    "\n",
    "# Visualize your original image here"
   ]
  },
  {
   "cell_type": "code",
   "execution_count": null,
   "metadata": {
    "id": "CGsfE8Mz9uX_"
   },
   "outputs": [],
   "source": [
    "# Check for the image channel statistics"
   ]
  },
  {
   "cell_type": "code",
   "execution_count": null,
   "metadata": {
    "id": "ZJUc3gS59uYC"
   },
   "outputs": [],
   "source": [
    "# Call the function to implement white patch algorithm. Find the best percentile."
   ]
  },
  {
   "cell_type": "code",
   "execution_count": null,
   "metadata": {
    "id": "AQwvuGxj9uYE"
   },
   "outputs": [],
   "source": [
    "# Call the function to apply the Gray World algorithm"
   ]
  },
  {
   "cell_type": "code",
   "execution_count": null,
   "metadata": {
    "id": "naBVQPhp9uYF"
   },
   "outputs": [],
   "source": [
    "# Call the function to apply the Ground Truth algorithm"
   ]
  },
  {
   "cell_type": "code",
   "execution_count": null,
   "metadata": {
    "id": "eogwIMQV9uYI"
   },
   "outputs": [],
   "source": [
    "# Call the function to apply the contrst stretching algorithm"
   ]
  },
  {
   "cell_type": "code",
   "execution_count": null,
   "metadata": {
    "id": "Z9d5s8Sw9uYJ"
   },
   "outputs": [],
   "source": []
  }
 ],
 "metadata": {
  "colab": {
   "provenance": []
  },
  "deepnote_notebook_id": "611dfc6f9b03426090fa699425cd11ef",
  "deepnote_persisted_session": {
   "createdAt": "2025-02-11T05:25:30.920Z"
  },
  "kernelspec": {
   "display_name": "Python (mlenv)",
   "language": "python",
   "name": "mlenv"
  },
  "language_info": {
   "codemirror_mode": {
    "name": "ipython",
    "version": 3
   },
   "file_extension": ".py",
   "mimetype": "text/x-python",
   "name": "python",
   "nbconvert_exporter": "python",
   "pygments_lexer": "ipython3",
   "version": "3.12.3"
  }
 },
 "nbformat": 4,
 "nbformat_minor": 1
}
